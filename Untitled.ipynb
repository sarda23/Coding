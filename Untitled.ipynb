{
 "cells": [
  {
   "cell_type": "code",
   "execution_count": 1,
   "id": "e0d05071",
   "metadata": {},
   "outputs": [
    {
     "name": "stdout",
     "output_type": "stream",
     "text": [
      "['Double Roti', 'Kashi Art Cafe', 'Cafe 17', 'The Grill Lab', 'Mocha Art Cafe', '360 Degrees Pizzeria', 'Nasi And Mee', 'Dhe Puttu', 'Mi Casa', 'Al Reem Kuzhimandi', 'Paragon', 'Tonico Cafe', 'Barbeque Nation', 'Zaatar Arabic Restaurant', 'Seagull Restaurant', 'The Voyager', \"Cafe d' arabia\", 'The Asian Kitchen by Tokyo Bay', 'Sethi Da Dhaba', 'French Toast', 'Zaatar Arabic Restaurant', 'Milano Ice Cream', 'Sheba Kuzhimandhi', 'KFC', 'Thaal Kitchen', 'Thakkaaram', 'Alakapuri', 'Nawras Seafood Restaurant', 'Brindhavan Vegetarian Restaurant', 'Mustake Multicuisine Restaurant', 'Cocoa Tree', \"Ikka's Restaurant\"]\n"
     ]
    }
   ],
   "source": [
    "import requests as rq\n",
    "city='Houston'\n",
    "max=200\n",
    "url=\"https://jsonmock.hackerrank.com/api/food_outlets?city=\"+city\n",
    "res=rq.get(url)\n",
    "n=res.json()['total_pages']\n",
    "\n",
    "ans=[]\n",
    "\n",
    "url=\"https://jsonmock.hackerrank.com/api/food_outlets?city=\"+city+\"&page=\"\n",
    "\n",
    "for i in range(1,n+1):\n",
    "    t=url+str(i)\n",
    "    data=rq.get(t).json()['data']\n",
    "    for x in data:\n",
    "        if x['estimated_cost']<=max:\n",
    "            ans.append(x['name'])\n",
    "            \n",
    "print(ans)"
   ]
  },
  {
   "cell_type": "code",
   "execution_count": 9,
   "id": "3302bc03",
   "metadata": {},
   "outputs": [
    {
     "ename": "TypeError",
     "evalue": "append() takes exactly one argument (2 given)",
     "output_type": "error",
     "traceback": [
      "\u001b[1;31m---------------------------------------------------------------------------\u001b[0m",
      "\u001b[1;31mTypeError\u001b[0m                                 Traceback (most recent call last)",
      "\u001b[1;32m<ipython-input-9-9ca5fd7b767b>\u001b[0m in \u001b[0;36m<module>\u001b[1;34m\u001b[0m\n\u001b[0;32m     17\u001b[0m             \u001b[0mans\u001b[0m\u001b[1;33m.\u001b[0m\u001b[0mappend\u001b[0m\u001b[1;33m(\u001b[0m\u001b[1;33m[\u001b[0m\u001b[0mx\u001b[0m\u001b[1;33m[\u001b[0m\u001b[1;34m'title'\u001b[0m\u001b[1;33m]\u001b[0m\u001b[1;33m,\u001b[0m\u001b[1;36m0\u001b[0m \u001b[1;32mif\u001b[0m \u001b[0mx\u001b[0m\u001b[1;33m[\u001b[0m\u001b[1;34m'num_comments'\u001b[0m\u001b[1;33m]\u001b[0m \u001b[1;32mis\u001b[0m \u001b[1;32mNone\u001b[0m \u001b[1;32melse\u001b[0m \u001b[0mx\u001b[0m\u001b[1;33m[\u001b[0m\u001b[1;34m'num_comments'\u001b[0m\u001b[1;33m]\u001b[0m\u001b[1;33m]\u001b[0m\u001b[1;33m)\u001b[0m\u001b[1;33m\u001b[0m\u001b[1;33m\u001b[0m\u001b[0m\n\u001b[0;32m     18\u001b[0m         \u001b[1;32melif\u001b[0m \u001b[0mx\u001b[0m\u001b[1;33m[\u001b[0m\u001b[1;34m'title'\u001b[0m\u001b[1;33m]\u001b[0m \u001b[1;32mis\u001b[0m \u001b[1;32mNone\u001b[0m\u001b[1;33m:\u001b[0m\u001b[1;33m\u001b[0m\u001b[1;33m\u001b[0m\u001b[0m\n\u001b[1;32m---> 19\u001b[1;33m             \u001b[0mans\u001b[0m\u001b[1;33m.\u001b[0m\u001b[0mappend\u001b[0m\u001b[1;33m(\u001b[0m\u001b[0mx\u001b[0m\u001b[1;33m[\u001b[0m\u001b[1;34m'story_title'\u001b[0m\u001b[1;33m]\u001b[0m\u001b[1;33m,\u001b[0m\u001b[1;36m0\u001b[0m \u001b[1;32mif\u001b[0m \u001b[0mx\u001b[0m\u001b[1;33m[\u001b[0m\u001b[1;34m'num_comments'\u001b[0m\u001b[1;33m]\u001b[0m \u001b[1;32mis\u001b[0m \u001b[1;32mNone\u001b[0m \u001b[1;32melse\u001b[0m \u001b[0mx\u001b[0m\u001b[1;33m[\u001b[0m\u001b[1;34m'num_comments'\u001b[0m\u001b[1;33m]\u001b[0m\u001b[1;33m)\u001b[0m\u001b[1;33m\u001b[0m\u001b[1;33m\u001b[0m\u001b[0m\n\u001b[0m\u001b[0;32m     20\u001b[0m         \u001b[1;32melse\u001b[0m\u001b[1;33m:\u001b[0m\u001b[1;33m\u001b[0m\u001b[1;33m\u001b[0m\u001b[0m\n\u001b[0;32m     21\u001b[0m             \u001b[0mans\u001b[0m\u001b[1;33m.\u001b[0m\u001b[0mappend\u001b[0m\u001b[1;33m(\u001b[0m\u001b[0mx\u001b[0m\u001b[1;33m[\u001b[0m\u001b[1;34m'title'\u001b[0m\u001b[1;33m]\u001b[0m\u001b[1;33m,\u001b[0m\u001b[1;36m0\u001b[0m \u001b[1;32mif\u001b[0m \u001b[0mx\u001b[0m\u001b[1;33m[\u001b[0m\u001b[1;34m'num_comments'\u001b[0m\u001b[1;33m]\u001b[0m \u001b[1;32mis\u001b[0m \u001b[1;32mNone\u001b[0m \u001b[1;32melse\u001b[0m \u001b[0mx\u001b[0m\u001b[1;33m[\u001b[0m\u001b[1;34m'num_comments'\u001b[0m\u001b[1;33m]\u001b[0m\u001b[1;33m)\u001b[0m\u001b[1;33m\u001b[0m\u001b[1;33m\u001b[0m\u001b[0m\n",
      "\u001b[1;31mTypeError\u001b[0m: append() takes exactly one argument (2 given)"
     ]
    }
   ],
   "source": [
    "import requests as rq\n",
    "limit=13\n",
    "\n",
    "url='https://jsonmock.hackerrank.com/api/articles'\n",
    "n=rq.get(url).json()['total_pages']\n",
    "ans=[]\n",
    "url='https://jsonmock.hackerrank.com/api/articles?page='\n",
    "for i in range(1,n+1):\n",
    "    t=url+str(i)\n",
    "    data=rq.get(t).json()['data']\n",
    "    if data is None:\n",
    "        break\n",
    "    for x in data:\n",
    "        if x['title'] is None and x['story_title'] is None:\n",
    "            continue\n",
    "        if x['story_title'] is None:\n",
    "            ans.append(x['title'],0 if x['num_comments'] is None else x['num_comments'])\n",
    "        elif x['title'] is None:\n",
    "            ans.append(x['story_title'],0 if x['num_comments'] is None else x['num_comments'])\n",
    "        else:\n",
    "            ans.append(x['title'],0 if x['num_comments'] is None else x['num_comments'])\n",
    "        ans=sorted(ans,key=lambda x:(x[1],x[0]),reverse=True)[:limit]\n"
   ]
  }
 ],
 "metadata": {
  "kernelspec": {
   "display_name": "Python 3",
   "language": "python",
   "name": "python3"
  },
  "language_info": {
   "codemirror_mode": {
    "name": "ipython",
    "version": 3
   },
   "file_extension": ".py",
   "mimetype": "text/x-python",
   "name": "python",
   "nbconvert_exporter": "python",
   "pygments_lexer": "ipython3",
   "version": "3.8.8"
  }
 },
 "nbformat": 4,
 "nbformat_minor": 5
}
