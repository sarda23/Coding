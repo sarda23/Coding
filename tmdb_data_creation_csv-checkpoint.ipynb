{
 "cells": [
  {
   "cell_type": "code",
   "execution_count": 12,
   "id": "059cd62d",
   "metadata": {},
   "outputs": [],
   "source": [
    "import requests\n",
    "import pandas as pd"
   ]
  },
  {
   "cell_type": "code",
   "execution_count": 4,
   "id": "c3a2fe4b",
   "metadata": {},
   "outputs": [
    {
     "data": {
      "text/plain": [
       "<Response [200]>"
      ]
     },
     "execution_count": 4,
     "metadata": {},
     "output_type": "execute_result"
    }
   ],
   "source": [
    "requests.get('https://api.themoviedb.org/3/movie/popular?api_key=0d600a032c9018468cffbc9bc7b17b95&language=en-US&page=10')"
   ]
  },
  {
   "cell_type": "code",
   "execution_count": 6,
   "id": "e315dfaa",
   "metadata": {},
   "outputs": [],
   "source": [
    "response=requests.get('https://api.themoviedb.org/3/movie/popular?api_key=0d600a032c9018468cffbc9bc7b17b95&language=en-US&page=1').json()"
   ]
  },
  {
   "cell_type": "code",
   "execution_count": 11,
   "id": "44a25463",
   "metadata": {},
   "outputs": [
    {
     "name": "stdout",
     "output_type": "stream",
     "text": [
      "Puss in Boots: The Last Wish 8.6\n",
      "M3GAN 7\n",
      "Avatar: The Way of Water 7.7\n",
      "Devotion 6.9\n",
      "The Enforcer 6.7\n",
      "Violent Night 7.7\n",
      "Troll 6.7\n",
      "Encanto at the Hollywood Bowl 6.6\n",
      "Black Adam 7.2\n",
      "Glass Onion: A Knives Out Mystery 7.1\n",
      "Avatar 7.6\n",
      "Black Panther: Wakanda Forever 7.5\n",
      "The Woman King 7.9\n",
      "Roald Dahl's Matilda the Musical 6.8\n",
      "The Last Client 7.4\n",
      "The Chronicles of Narnia: The Lion, the Witch and the Wardrobe 7.1\n",
      "Savage Salvation 5.6\n",
      "High Heat 5.1\n",
      "Prey for the Devil 7.2\n",
      "The Big 4 6.9\n"
     ]
    }
   ],
   "source": [
    "for i in response['results']:\n",
    "    print(i['title'],i['vote_average'])"
   ]
  }
 ],
 "metadata": {
  "kernelspec": {
   "display_name": "Python 3 (ipykernel)",
   "language": "python",
   "name": "python3"
  },
  "language_info": {
   "codemirror_mode": {
    "name": "ipython",
    "version": 3
   },
   "file_extension": ".py",
   "mimetype": "text/x-python",
   "name": "python",
   "nbconvert_exporter": "python",
   "pygments_lexer": "ipython3",
   "version": "3.11.1"
  }
 },
 "nbformat": 4,
 "nbformat_minor": 5
}
